{
  "nbformat": 4,
  "nbformat_minor": 0,
  "metadata": {
    "colab": {
      "provenance": [],
      "toc_visible": true,
      "name": "Домашнее задание 2.ipynb",
      "authorship_tag": "ABX9TyP7hCQJyu5IaD316Ye8zxCt",
      "include_colab_link": true
    },
    "kernelspec": {
      "name": "python3",
      "display_name": "Python 3"
    },
    "language_info": {
      "name": "python"
    }
  },
  "cells": [
    {
      "cell_type": "markdown",
      "metadata": {
        "id": "view-in-github",
        "colab_type": "text"
      },
      "source": [
        "<a href=\"https://colab.research.google.com/github/Adrestand/NSU/blob/main/%D0%94%D0%BE%D0%BC%D0%B0%D1%88%D0%BD%D0%B5%D0%B5_%D0%B7%D0%B0%D0%B4%D0%B0%D0%BD%D0%B8%D0%B5_2.ipynb\" target=\"_parent\"><img src=\"https://colab.research.google.com/assets/colab-badge.svg\" alt=\"Open In Colab\"/></a>"
      ]
    },
    {
      "cell_type": "code",
      "execution_count": null,
      "metadata": {
        "colab": {
          "base_uri": "https://localhost:8080/"
        },
        "id": "jcWgnvTq7Pbp",
        "outputId": "4ec31be1-18bf-463a-8c59-d8e546c19234"
      },
      "outputs": [
        {
          "output_type": "stream",
          "name": "stdout",
          "text": [
            "Введите количество чисел: 3\n",
            "Введите число: 21\n",
            "Введите число: 2\n",
            "Введите число: 3\n",
            "Числа в обратном порядке:\n",
            "21.0\n",
            "3.0\n",
            "2.0\n"
          ]
        }
      ],
      "source": [
        "#Задание 1\n",
        "# Ввод количества чисел\n",
        "n = int(input(\"Введите количество чисел: \"))\n",
        "\n",
        "# Ввод чисел\n",
        "numbers = []\n",
        "for i in range(n):\n",
        "    num = float(input(f\"Введите число: \"))\n",
        "    numbers.append(num)\n",
        "\n",
        "numbers.sort(reverse=True)\n",
        "\n",
        "# Сортировка\n",
        "print(\"Числа в обратном порядке:\")\n",
        "for num in numbers:\n",
        "    print(num)\n"
      ]
    },
    {
      "cell_type": "code",
      "source": [],
      "metadata": {
        "id": "cuRN2pIvFbgv"
      },
      "execution_count": null,
      "outputs": []
    },
    {
      "cell_type": "markdown",
      "source": [],
      "metadata": {
        "id": "NYFecMcqF2c2"
      }
    },
    {
      "cell_type": "code",
      "source": [
        "#Задание 2\n",
        "# Вводим число строк\n",
        "num_lines = int(input())\n",
        "\n",
        "# Список для хранения обработанных строк\n",
        "processed_lines = []\n",
        "\n",
        "# Цикл обработки строк\n",
        "for _ in range(num_lines):\n",
        "\n",
        "    line = input()\n",
        "\n",
        "    if line.startswith(\"%%\"):\n",
        "        line = line[2:]\n",
        "\n",
        "    if line.startswith(\"###\"):\n",
        "        continue\n",
        "\n",
        "    # Добавление обработанной строки в список\n",
        "    processed_lines.append(line)\n",
        "\n",
        "# Вывод всех обработанных строк\n",
        "for processed_line in processed_lines:\n",
        "    print(processed_line)\n",
        "\n"
      ],
      "metadata": {
        "colab": {
          "base_uri": "https://localhost:8080/"
        },
        "id": "l0d2XyEU7UPU",
        "outputId": "41e7eb7a-ca10-462d-80d7-66c4870a8fe9"
      },
      "execution_count": 1,
      "outputs": [
        {
          "output_type": "stream",
          "name": "stdout",
          "text": [
            "3\n",
            "SVO TRS 29481292\n",
            "%%LJPZ DME 11113283675\n",
            "###&%^^^^\n",
            "SVO TRS 29481292\n",
            "LJPZ DME 11113283675\n"
          ]
        }
      ]
    },
    {
      "cell_type": "code",
      "source": [
        "#Задание 3\n",
        "N = int(input())\n",
        "numbers = [int(input()) for _ in range(N)]\n",
        "p = int(input())\n",
        "q = int(input())\n",
        "\n",
        "result = sum(numbers[p-1:q])\n",
        "\n",
        "print(result)\n"
      ],
      "metadata": {
        "colab": {
          "base_uri": "https://localhost:8080/"
        },
        "id": "YLPjlN9g76D4",
        "outputId": "31f39057-b74e-49b3-e83a-cd48e6525e2f"
      },
      "execution_count": 2,
      "outputs": [
        {
          "output_type": "stream",
          "name": "stdout",
          "text": [
            "5\n",
            "100\n",
            "222\n",
            "300\n",
            "444\n",
            "500\n",
            "2\n",
            "4\n",
            "966\n"
          ]
        }
      ]
    },
    {
      "cell_type": "code",
      "source": [
        "#Задание 4\n",
        "def Artek(s, n):\n",
        "    # Разделяем строку на пары \"фамилия оценка\". Поэтому в функцию нужно вносить список через запятую.\n",
        "    students = [pair.strip().split() for pair in s.split(',')]\n",
        "\n",
        "    # Выбираем отличников с оценкой выше или равной n\n",
        "    selected_students = [student[0] for student in students if int(student[1]) >= n]\n",
        "\n",
        "    # Если количество выбранных студентов больше, чем свободных мест\n",
        "    if len(selected_students) > n:\n",
        "        # Сортируем их по фамилии и выводим\n",
        "        selected_students.sort()\n",
        "        print(', '.join(selected_students[:n]))\n",
        "\n",
        "# Пример использования\n",
        "A=input(str)\n",
        "\n",
        "\n",
        "Artek(A,3)\n"
      ],
      "metadata": {
        "colab": {
          "base_uri": "https://localhost:8080/"
        },
        "id": "DOcuusir_k9c",
        "outputId": "c636b7c3-fe0a-444f-c8ee-6a9c9969360c"
      },
      "execution_count": null,
      "outputs": [
        {
          "output_type": "stream",
          "name": "stdout",
          "text": [
            "<class 'str'>Сидоров 3, Смирнова 5, Самойкин 4, Емельянов 2, Кац 5, Вдовиченко 5, Северин 4, Субботкин 5\n",
            "Вдовиченко, Кац, Самойкин\n"
          ]
        }
      ]
    },
    {
      "cell_type": "code",
      "source": [
        "#Задание 5\n",
        "import re\n",
        "\n",
        "def password_level(password):\n",
        "    if len(password) <= 7:\n",
        "        return \"Недопустимый пароль\"\n",
        "\n",
        "    has_digit = any(c.isdigit() for c in password)\n",
        "    has_upper = any(c.isupper() for c in password)\n",
        "    has_lower = any(c.islower() for c in password)\n",
        "    has_special = bool(re.search(r'[!@#$%&*().,-_+]', password))\n",
        "\n",
        "    if has_digit and has_upper and has_lower and has_special:\n",
        "        return \"Надежный пароль\"\n",
        "    elif has_digit and (has_upper or has_lower):\n",
        "        return \"Слабый пароль\"\n",
        "    else:\n",
        "        return \"Ненадежный пароль\"\n",
        "\n",
        "# Пример использования\n",
        "user_password = input(\"Введите пароль: \")\n",
        "print(password_level(user_password))\n"
      ],
      "metadata": {
        "colab": {
          "base_uri": "https://localhost:8080/"
        },
        "id": "TeEYHjq4CSx2",
        "outputId": "76385647-aaac-4cb4-abf2-f835581b2b89"
      },
      "execution_count": null,
      "outputs": [
        {
          "output_type": "stream",
          "name": "stdout",
          "text": [
            "Введите пароль: adrestand1488!\n",
            "Слабый пароль\n"
          ]
        }
      ]
    },
    {
      "cell_type": "code",
      "source": [],
      "metadata": {
        "id": "VIyh8_foD-CI"
      },
      "execution_count": null,
      "outputs": []
    }
  ]
}