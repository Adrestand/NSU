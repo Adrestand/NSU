{
  "nbformat": 4,
  "nbformat_minor": 0,
  "metadata": {
    "colab": {
      "provenance": [],
      "authorship_tag": "ABX9TyNyVMAlBiHlKz2CM21eV9TV",
      "include_colab_link": true
    },
    "kernelspec": {
      "name": "python3",
      "display_name": "Python 3"
    },
    "language_info": {
      "name": "python"
    }
  },
  "cells": [
    {
      "cell_type": "markdown",
      "metadata": {
        "id": "view-in-github",
        "colab_type": "text"
      },
      "source": [
        "<a href=\"https://colab.research.google.com/github/Adrestand/NSU/blob/main/%D0%9B%D0%B0%D0%B1%D0%BE%D1%80%D0%B0%D1%82%D0%BE%D1%80%D0%BD%D0%B0%D1%8F_1.ipynb\" target=\"_parent\"><img src=\"https://colab.research.google.com/assets/colab-badge.svg\" alt=\"Open In Colab\"/></a>"
      ]
    },
    {
      "cell_type": "code",
      "execution_count": 4,
      "metadata": {
        "colab": {
          "base_uri": "https://localhost:8080/"
        },
        "id": "Oyd9exojy4et",
        "outputId": "9cffd49c-e5ac-4d25-c9e8-a860bc2ecb49"
      },
      "outputs": [
        {
          "output_type": "stream",
          "name": "stdout",
          "text": [
            "Pupa закончил работу. Результат: [5, 7, 9]\n",
            "Зарплата выплачена Pupa. Оставшийся бюджет: 900\n",
            "Lupa закончил работу. Результат: [6, 15, 24]\n",
            "Зарплата выплачена Lupa. Оставшийся бюджет: 800\n"
          ]
        }
      ],
      "source": [
        "#Создаем Пупу\n",
        "class Pupa:\n",
        "    def __init__(self, name):\n",
        "        self.name = name  # Принимаем имя работника\n",
        "        self.salary = 0   # Начальная зарплата равна 0\n",
        "\n",
        "    # Метод do_work принимает два списка чисел и суммирует их поэлементно\n",
        "    def do_work(self, list1, list2):\n",
        "        result = [x + y for x, y in zip(list1, list2)]  # Вычисляем сумму списков\n",
        "        print(f\"{self.name} закончил работу. Результат: {result}\")  # Выводим результат на экран\n",
        "\n",
        "    # Метод take_salary увеличивает зарплату на переданное значение\n",
        "    def take_salary(self, amount):\n",
        "        self.salary += amount  # Увеличиваем зарплату на значение amount\n",
        "\n",
        "\n",
        "# Создаем Лупу\n",
        "class Lupa:\n",
        "    def __init__(self, name):\n",
        "        self.name = name  # Принимаем имя работника\n",
        "        self.salary = 0   # Начальная зарплата равна 0\n",
        "\n",
        "    # Метод do_work принимает два списка чисел и вычитает их поэлементно\n",
        "    def do_work(self, list1, list2):\n",
        "        result = [x - y for x, y in zip(list1, list2)]  # Вычисляем разность списков\n",
        "        print(f\"{self.name} закончил работу. Результат: {result}\")  # Выводим результат на экран\n",
        "\n",
        "    # Метод take_salary увеличивает зарплату на переданное значение\n",
        "    def take_salary(self, amount):\n",
        "        self.salary += amount  # Увеличиваем зарплату на значение amount\n",
        "\n",
        "\n",
        "# Создаем класс Accountant, отвечающий за выплату зарплаты и управление бюджетом\n",
        "class Accountant:\n",
        "    def __init__(self):\n",
        "        self.total_budget = 1000  # Устанавливаем начальный бюджет\n",
        "\n",
        "    # Метод give_salary принимает экземпляр работника и выплачивает ему зарплату\n",
        "    def give_salary(self, worker):\n",
        "        # Проверяем, есть ли достаточно средств для выплаты зарплаты\n",
        "        if self.total_budget >= 100:\n",
        "            # Выплачиваем зарплату и уменьшаем общий бюджет\n",
        "            worker.take_salary(100)\n",
        "            self.total_budget -= 100\n",
        "            print(f\"Зарплата выплачена {worker.name}. Оставшийся бюджет: {self.total_budget}\")\n",
        "        else:\n",
        "            print(\"Зарплату платить не чем\")\n",
        "\n",
        "\n",
        "\n",
        "\n",
        "# Создаем экземпляры работников\n",
        "pupa = Pupa(\"Pupa\")\n",
        "lupa = Lupa(\"Lupa\")\n",
        "\n",
        "# Создаем экземпляр бухгалтера\n",
        "accountant = Accountant()\n",
        "\n",
        "# Работа и выплата зарплаты для Pupa\n",
        "pupa.do_work([1, 2, 3], [4, 5, 6])  # Вызываем метод do_work для Pupa\n",
        "accountant.give_salary(pupa)        # Вызываем метод give_salary для Pupa\n",
        "\n",
        "# Работа и выплата зарплаты для Lupa\n",
        "lupa.do_work([10, 20, 30], [4, 5, 6])  # Вызываем метод do_work для Lupa\n",
        "accountant.give_salary(lupa)           # Вызываем метод give_salary для Lupa\n"
      ]
    },
    {
      "cell_type": "code",
      "source": [],
      "metadata": {
        "id": "PxPCFnEVzBQx"
      },
      "execution_count": null,
      "outputs": []
    }
  ]
}